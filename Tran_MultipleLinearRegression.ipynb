{
 "cells": [
  {
   "cell_type": "markdown",
   "metadata": {},
   "source": [
    "# Preprocessing and Multiple Linear Regression"
   ]
  },
  {
   "cell_type": "code",
   "execution_count": 1,
   "metadata": {},
   "outputs": [
    {
     "data": {
      "text/html": [
       "<div>\n",
       "<style scoped>\n",
       "    .dataframe tbody tr th:only-of-type {\n",
       "        vertical-align: middle;\n",
       "    }\n",
       "\n",
       "    .dataframe tbody tr th {\n",
       "        vertical-align: top;\n",
       "    }\n",
       "\n",
       "    .dataframe thead th {\n",
       "        text-align: right;\n",
       "    }\n",
       "</style>\n",
       "<table border=\"1\" class=\"dataframe\">\n",
       "  <thead>\n",
       "    <tr style=\"text-align: right;\">\n",
       "      <th></th>\n",
       "      <th>mpg</th>\n",
       "      <th>cylinders</th>\n",
       "      <th>displacement</th>\n",
       "      <th>horsepower</th>\n",
       "      <th>weight</th>\n",
       "      <th>acceleration</th>\n",
       "      <th>year</th>\n",
       "      <th>origin</th>\n",
       "      <th>name</th>\n",
       "    </tr>\n",
       "  </thead>\n",
       "  <tbody>\n",
       "    <tr>\n",
       "      <th>0</th>\n",
       "      <td>18.0</td>\n",
       "      <td>8.0</td>\n",
       "      <td>307.0</td>\n",
       "      <td>130.0</td>\n",
       "      <td>3504</td>\n",
       "      <td>12.0</td>\n",
       "      <td>70</td>\n",
       "      <td>1.0</td>\n",
       "      <td>chevrolet chevelle malibu</td>\n",
       "    </tr>\n",
       "    <tr>\n",
       "      <th>1</th>\n",
       "      <td>15.0</td>\n",
       "      <td>8.0</td>\n",
       "      <td>350.0</td>\n",
       "      <td>165.0</td>\n",
       "      <td>3693</td>\n",
       "      <td>11.5</td>\n",
       "      <td>70</td>\n",
       "      <td>1.0</td>\n",
       "      <td>buick skylark 320</td>\n",
       "    </tr>\n",
       "    <tr>\n",
       "      <th>2</th>\n",
       "      <td>18.0</td>\n",
       "      <td>8.0</td>\n",
       "      <td>318.0</td>\n",
       "      <td>150.0</td>\n",
       "      <td>3436</td>\n",
       "      <td>11.0</td>\n",
       "      <td>70</td>\n",
       "      <td>1.0</td>\n",
       "      <td>plymouth satellite</td>\n",
       "    </tr>\n",
       "    <tr>\n",
       "      <th>3</th>\n",
       "      <td>16.0</td>\n",
       "      <td>8.0</td>\n",
       "      <td>304.0</td>\n",
       "      <td>150.0</td>\n",
       "      <td>3433</td>\n",
       "      <td>12.0</td>\n",
       "      <td>70</td>\n",
       "      <td>1.0</td>\n",
       "      <td>amc rebel sst</td>\n",
       "    </tr>\n",
       "    <tr>\n",
       "      <th>4</th>\n",
       "      <td>17.0</td>\n",
       "      <td>8.0</td>\n",
       "      <td>302.0</td>\n",
       "      <td>140.0</td>\n",
       "      <td>3449</td>\n",
       "      <td>10.5</td>\n",
       "      <td>70</td>\n",
       "      <td>1.0</td>\n",
       "      <td>ford torino</td>\n",
       "    </tr>\n",
       "  </tbody>\n",
       "</table>\n",
       "</div>"
      ],
      "text/plain": [
       "    mpg  cylinders  displacement  horsepower  weight  acceleration  year  \\\n",
       "0  18.0        8.0         307.0       130.0    3504          12.0    70   \n",
       "1  15.0        8.0         350.0       165.0    3693          11.5    70   \n",
       "2  18.0        8.0         318.0       150.0    3436          11.0    70   \n",
       "3  16.0        8.0         304.0       150.0    3433          12.0    70   \n",
       "4  17.0        8.0         302.0       140.0    3449          10.5    70   \n",
       "\n",
       "   origin                       name  \n",
       "0     1.0  chevrolet chevelle malibu  \n",
       "1     1.0          buick skylark 320  \n",
       "2     1.0         plymouth satellite  \n",
       "3     1.0              amc rebel sst  \n",
       "4     1.0                ford torino  "
      ]
     },
     "execution_count": 1,
     "metadata": {},
     "output_type": "execute_result"
    }
   ],
   "source": [
    "import pandas as pd\n",
    "import numpy as np\n",
    "df = pd.read_csv(\"C:\\\\Users\\\\nicol\\\\auto_mpg_modified.csv\")\n",
    "df.head()"
   ]
  },
  {
   "cell_type": "markdown",
   "metadata": {},
   "source": [
    "-removing origin because the relationship between origin and mpg is unclear <br/>\n",
    "-removing name because name should not have as much predicitive value for mps in comparison to other predictor variables (such as displacement, horsepower, etc.)<br/>\n",
    "-replacing missing values using a data imputation method"
   ]
  },
  {
   "cell_type": "code",
   "execution_count": 2,
   "metadata": {},
   "outputs": [
    {
     "data": {
      "text/html": [
       "<div>\n",
       "<style scoped>\n",
       "    .dataframe tbody tr th:only-of-type {\n",
       "        vertical-align: middle;\n",
       "    }\n",
       "\n",
       "    .dataframe tbody tr th {\n",
       "        vertical-align: top;\n",
       "    }\n",
       "\n",
       "    .dataframe thead th {\n",
       "        text-align: right;\n",
       "    }\n",
       "</style>\n",
       "<table border=\"1\" class=\"dataframe\">\n",
       "  <thead>\n",
       "    <tr style=\"text-align: right;\">\n",
       "      <th></th>\n",
       "      <th>mpg</th>\n",
       "      <th>cylinders</th>\n",
       "      <th>displacement</th>\n",
       "      <th>horsepower</th>\n",
       "      <th>weight</th>\n",
       "      <th>acceleration</th>\n",
       "      <th>year</th>\n",
       "    </tr>\n",
       "  </thead>\n",
       "  <tbody>\n",
       "    <tr>\n",
       "      <th>0</th>\n",
       "      <td>18.0</td>\n",
       "      <td>8</td>\n",
       "      <td>307.0</td>\n",
       "      <td>130.0</td>\n",
       "      <td>3504.0</td>\n",
       "      <td>12.0</td>\n",
       "      <td>70</td>\n",
       "    </tr>\n",
       "    <tr>\n",
       "      <th>1</th>\n",
       "      <td>15.0</td>\n",
       "      <td>8</td>\n",
       "      <td>350.0</td>\n",
       "      <td>165.0</td>\n",
       "      <td>3693.0</td>\n",
       "      <td>11.5</td>\n",
       "      <td>70</td>\n",
       "    </tr>\n",
       "    <tr>\n",
       "      <th>2</th>\n",
       "      <td>18.0</td>\n",
       "      <td>8</td>\n",
       "      <td>318.0</td>\n",
       "      <td>150.0</td>\n",
       "      <td>3436.0</td>\n",
       "      <td>11.0</td>\n",
       "      <td>70</td>\n",
       "    </tr>\n",
       "    <tr>\n",
       "      <th>3</th>\n",
       "      <td>16.0</td>\n",
       "      <td>8</td>\n",
       "      <td>304.0</td>\n",
       "      <td>150.0</td>\n",
       "      <td>3433.0</td>\n",
       "      <td>12.0</td>\n",
       "      <td>70</td>\n",
       "    </tr>\n",
       "    <tr>\n",
       "      <th>4</th>\n",
       "      <td>17.0</td>\n",
       "      <td>8</td>\n",
       "      <td>302.0</td>\n",
       "      <td>140.0</td>\n",
       "      <td>3449.0</td>\n",
       "      <td>10.5</td>\n",
       "      <td>70</td>\n",
       "    </tr>\n",
       "  </tbody>\n",
       "</table>\n",
       "</div>"
      ],
      "text/plain": [
       "    mpg  cylinders  displacement  horsepower  weight  acceleration  year\n",
       "0  18.0          8         307.0       130.0  3504.0          12.0    70\n",
       "1  15.0          8         350.0       165.0  3693.0          11.5    70\n",
       "2  18.0          8         318.0       150.0  3436.0          11.0    70\n",
       "3  16.0          8         304.0       150.0  3433.0          12.0    70\n",
       "4  17.0          8         302.0       140.0  3449.0          10.5    70"
      ]
     },
     "execution_count": 2,
     "metadata": {},
     "output_type": "execute_result"
    }
   ],
   "source": [
    "def data_preprocessing (df):\n",
    "    df.drop('origin', axis = 1, inplace= True) \n",
    "    df.drop('name', axis = 1, inplace= True)                 \n",
    "       \n",
    "    min = df['horsepower'].mean() - df['horsepower'].std()\n",
    "    max = df['horsepower'].mean() + df['horsepower'].std()\n",
    "    imp_horse = list(np.random.randint(min, max, size = 1))\n",
    "\n",
    "    df.loc[df['horsepower'].isnull(), 'horsepower'] = imp_horse\n",
    "    df['horsepower'] = df['horsepower'].astype(float)\n",
    "    \n",
    "    min = df['mpg'].mean() - df['mpg'].std()\n",
    "    max = df['mpg'].mean() + df['mpg'].std()\n",
    "    imp_mpg = list(np.random.randint(min, max, size = 1))\n",
    "\n",
    "    df.loc[df['mpg'].isnull(), 'mpg'] = imp_mpg\n",
    "    df['mpg'] = df['mpg'].astype(float)\n",
    "    \n",
    "    min = df['cylinders'].mean() - df['cylinders'].std()\n",
    "    max = df['cylinders'].mean() + df['cylinders'].std()\n",
    "    imp_cylinders = list(np.random.randint(min, max, size = 1))\n",
    "\n",
    "    df.loc[df['cylinders'].isnull(), 'cylinders'] = imp_cylinders \n",
    "    df['cylinders'] = df['cylinders'].astype(int)\n",
    "    \n",
    "    min = df['displacement'].mean() - df['displacement'].std()\n",
    "    max = df['displacement'].mean() + df['displacement'].std()\n",
    "    imp_displacement = list(np.random.randint(min, max, size = 1))\n",
    "\n",
    "    df.loc[df['displacement'].isnull(), 'displacement'] = imp_displacement\n",
    "    df['displacement'] = df['displacement'].astype(float)\n",
    "    \n",
    "    min = df['weight'].mean() - df['weight'].std()\n",
    "    max = df['weight'].mean() + df['weight'].std()\n",
    "    imp_weight = list(np.random.randint(min, max, size = 1))\n",
    "\n",
    "    df.loc[df['weight'].isnull(), 'weight'] = imp_weight\n",
    "    df['weight'] = df['weight'].astype(float)\n",
    "    \n",
    "    min = df['acceleration'].mean() - df['acceleration'].std()\n",
    "    max = df['acceleration'].mean() + df['acceleration'].std()\n",
    "    imp_acceleration = list(np.random.randint(min, max, size = 1))\n",
    "\n",
    "    df.loc[df['acceleration'].isnull(), 'acceleration'] = imp_acceleration\n",
    "    df['acceleration'] = df['acceleration'].astype(float)\n",
    "    \n",
    "    min = df['year'].mean() - df['year'].std()\n",
    "    max = df['year'].mean() + df['year'].std()\n",
    "    imp_year = list(np.random.randint(min, max, size = 1))\n",
    "\n",
    "    df.loc[df['year'].isnull(), 'year'] = imp_year\n",
    "    df['year'] = df['year'].astype(int)\n",
    "    \n",
    "    return df\n",
    "                    \n",
    "df_clean = data_preprocessing(df)\n",
    "df_clean.head()"
   ]
  },
  {
   "cell_type": "markdown",
   "metadata": {},
   "source": [
    "Preparing features and response dataframes"
   ]
  },
  {
   "cell_type": "code",
   "execution_count": 3,
   "metadata": {},
   "outputs": [],
   "source": [
    "response = pd.DataFrame(df.mpg)\n",
    "features = df.iloc[:, 1:7]"
   ]
  },
  {
   "cell_type": "code",
   "execution_count": 5,
   "metadata": {},
   "outputs": [],
   "source": [
    "from sklearn.model_selection import train_test_split\n",
    "#breaking data into train and test data and assigning them to their corresponding dataframes\n",
    "my_result_list = train_test_split(features, response, test_size=0.2, random_state=0)\n",
    "\n",
    "features_train = my_result_list[0]\n",
    "features_test = my_result_list[1]\n",
    "response_train = my_result_list[2]\n",
    "response_test = my_result_list[3]"
   ]
  },
  {
   "cell_type": "code",
   "execution_count": 10,
   "metadata": {},
   "outputs": [
    {
     "name": "stdout",
     "output_type": "stream",
     "text": [
      "Number of total rows in complete features dataframe:  398\n",
      "Number of total rows in features_train dataframe:  318\n",
      "Number of total rows in features_test dataframe:  80\n",
      "Number of total rows in complete response dataframe:  398\n",
      "Number of total rows in response_train dataframe:  318\n",
      "Number of total rows in response_test dataframe:  80\n"
     ]
    }
   ],
   "source": [
    "#assessing length of each dataframe\n",
    "print(\"Number of total rows in complete features dataframe: \", len(features))\n",
    "print(\"Number of total rows in features_train dataframe: \", len(features_train))\n",
    "print(\"Number of total rows in features_test dataframe: \", len(features_test))\n",
    "print(\"Number of total rows in complete response dataframe: \", len(response))\n",
    "print(\"Number of total rows in response_train dataframe: \", len(response_train))\n",
    "print(\"Number of total rows in response_test dataframe: \", len(response_test))"
   ]
  },
  {
   "cell_type": "markdown",
   "metadata": {},
   "source": [
    "Creating a multiple linear regression model and fitting it to our train data"
   ]
  },
  {
   "cell_type": "code",
   "execution_count": 11,
   "metadata": {},
   "outputs": [
    {
     "data": {
      "text/plain": [
       "LinearRegression(copy_X=True, fit_intercept=True, n_jobs=None, normalize=False)"
      ]
     },
     "execution_count": 11,
     "metadata": {},
     "output_type": "execute_result"
    }
   ],
   "source": [
    "from sklearn.linear_model import LinearRegression\n",
    "my_linear_regression = LinearRegression()\n",
    "my_linear_regression.fit(features_train, response_train)"
   ]
  },
  {
   "cell_type": "markdown",
   "metadata": {},
   "source": [
    "Generating predictions for our test data"
   ]
  },
  {
   "cell_type": "code",
   "execution_count": 12,
   "metadata": {},
   "outputs": [],
   "source": [
    "response_pred = my_linear_regression.predict(features_test)"
   ]
  },
  {
   "cell_type": "markdown",
   "metadata": {},
   "source": [
    "Generating a scatterplot to visualize predictions versus actuals"
   ]
  },
  {
   "cell_type": "code",
   "execution_count": 14,
   "metadata": {
    "scrolled": true
   },
   "outputs": [
    {
     "data": {
      "image/png": "[encoded data removed]",
      "text/plain": [
       "<Figure size 504x432 with 1 Axes>"
      ]
     },
     "metadata": {
      "needs_background": "light"
     },
     "output_type": "display_data"
    }
   ],
   "source": [
    "import matplotlib.pyplot as plt\n",
    "plt.figure(figsize=(7, 6))\n",
    "plt.scatter(response_test, response_pred)\n",
    "plt.ylabel('Prediction', size = 12)\n",
    "plt.xlabel('Actual MPG', size = 12)\n",
    "plt.show()"
   ]
  },
  {
   "cell_type": "markdown",
   "metadata": {},
   "source": [
    "Assessing our model's metrics"
   ]
  },
  {
   "cell_type": "code",
   "execution_count": 15,
   "metadata": {},
   "outputs": [
    {
     "name": "stdout",
     "output_type": "stream",
     "text": [
      "Mean Absolute Error: 2.710317892564791\n",
      "Mean Squared Error: 11.529982298873666\n",
      "Root Mean Squared Error: 3.3955827627777926\n"
     ]
    }
   ],
   "source": [
    "from sklearn import metrics\n",
    "print('Mean Absolute Error:', metrics.mean_absolute_error(response_test, response_pred))\n",
    "print('Mean Squared Error:', metrics.mean_squared_error(response_test, response_pred))\n",
    "print('Root Mean Squared Error:', np.sqrt(metrics.mean_squared_error(response_test, response_pred)))"
   ]
  },
  {
   "cell_type": "markdown",
   "metadata": {},
   "source": [
    "Normalizing our cleaned data using minmaxscaler"
   ]
  },
  {
   "cell_type": "code",
   "execution_count": 16,
   "metadata": {},
   "outputs": [],
   "source": [
    "from sklearn.preprocessing import MinMaxScaler\n",
    "scaler = MinMaxScaler() \n",
    "data_normalized = scaler.fit_transform(df_clean)\n",
    "df_normalized = pd.DataFrame(data_normalized, columns = df_clean.columns.to_list())"
   ]
  },
  {
   "cell_type": "markdown",
   "metadata": {},
   "source": [
    "Fitting a multiple linear regression model to our normalized data"
   ]
  },
  {
   "cell_type": "code",
   "execution_count": 17,
   "metadata": {},
   "outputs": [
    {
     "data": {
      "text/plain": [
       "LinearRegression(copy_X=True, fit_intercept=True, n_jobs=None, normalize=False)"
      ]
     },
     "execution_count": 17,
     "metadata": {},
     "output_type": "execute_result"
    }
   ],
   "source": [
    "from sklearn.linear_model import LinearRegression\n",
    "my_linear_regression = LinearRegression()\n",
    "features = df_normalized.iloc[:,1:7] \n",
    "response = df_normalized[['mpg']]\n",
    "my_linear_regression.fit(features, response)"
   ]
  },
  {
   "cell_type": "markdown",
   "metadata": {},
   "source": [
    "Assessing feature importance for the normalized model and summarizing them in a bar chart"
   ]
  },
  {
   "cell_type": "code",
   "execution_count": 18,
   "metadata": {},
   "outputs": [
    {
     "name": "stdout",
     "output_type": "stream",
     "text": [
      "cylinders: -0.04526\n",
      "displacement: 0.08545\n",
      "horsepower: 0.00919\n",
      "weight: -0.65337\n",
      "acceleration: 0.04044\n",
      "year: 0.24176\n"
     ]
    }
   ],
   "source": [
    "importance = my_linear_regression.coef_[0]\n",
    "feature_names = df_normalized.columns.to_list()\n",
    "feature_names.remove('mpg')\n",
    "# summarize feature importance\n",
    "for i, score in enumerate(importance):\n",
    "    print('%s: %.5f' % (feature_names[i], score))"
   ]
  },
  {
   "cell_type": "code",
   "execution_count": 19,
   "metadata": {},
   "outputs": [
    {
     "data": {
      "image/png": "[encoded data removed]",
      "text/plain": [
       "<Figure size 720x360 with 1 Axes>"
      ]
     },
     "metadata": {
      "needs_background": "light"
     },
     "output_type": "display_data"
    }
   ],
   "source": [
    "from matplotlib import pyplot\n",
    "pyplot.figure(figsize=(10, 5))\n",
    "pyplot.bar(x = list(range(len(importance))), height = importance, tick_label = feature_names)\n",
    "pyplot.title('Automobile MPG Feature Importance')\n",
    "pyplot.xlabel('Features')\n",
    "pyplot.ylabel('Importance Score')\n",
    "pyplot.show()"
   ]
  },
  {
   "cell_type": "markdown",
   "metadata": {},
   "source": [
    "Dropping the two lowest features from our dataset (horsepower and acceleration). "
   ]
  },
  {
   "cell_type": "code",
   "execution_count": 20,
   "metadata": {},
   "outputs": [],
   "source": [
    "df_clean.drop('horsepower', axis = 1, inplace= True) \n",
    "df_clean.drop('acceleration', axis = 1, inplace= True)   "
   ]
  },
  {
   "cell_type": "code",
   "execution_count": 22,
   "metadata": {},
   "outputs": [],
   "source": [
    "#creating features and response DFs with our new data.\n",
    "response = pd.DataFrame(df_clean.mpg)\n",
    "features = df_clean.iloc[:, 1:5]"
   ]
  },
  {
   "cell_type": "code",
   "execution_count": 23,
   "metadata": {},
   "outputs": [],
   "source": [
    "from sklearn.model_selection import train_test_split\n",
    "my_result_list = train_test_split(features, response, test_size=0.2, random_state=0)\n",
    "\n",
    "features_train = my_result_list[0]\n",
    "features_test = my_result_list[1]\n",
    "response_train = my_result_list[2]\n",
    "response_test = my_result_list[3]"
   ]
  },
  {
   "cell_type": "code",
   "execution_count": 24,
   "metadata": {},
   "outputs": [
    {
     "data": {
      "text/plain": [
       "LinearRegression(copy_X=True, fit_intercept=True, n_jobs=None, normalize=False)"
      ]
     },
     "execution_count": 24,
     "metadata": {},
     "output_type": "execute_result"
    }
   ],
   "source": [
    "from sklearn.linear_model import LinearRegression\n",
    "my_linear_regression = LinearRegression()\n",
    "my_linear_regression.fit(features_train, response_train)"
   ]
  },
  {
   "cell_type": "code",
   "execution_count": 25,
   "metadata": {},
   "outputs": [],
   "source": [
    "response_pred = my_linear_regression.predict(features_test)"
   ]
  },
  {
   "cell_type": "code",
   "execution_count": 26,
   "metadata": {
    "scrolled": true
   },
   "outputs": [
    {
     "data": {
      "image/png": "[encoded data removed]",
      "text/plain": [
       "<Figure size 504x432 with 1 Axes>"
      ]
     },
     "metadata": {
      "needs_background": "light"
     },
     "output_type": "display_data"
    }
   ],
   "source": [
    "import matplotlib.pyplot as plt\n",
    "plt.figure(figsize=(7, 6))\n",
    "plt.scatter(response_test, response_pred)\n",
    "plt.ylabel('Prediction', size = 12)\n",
    "plt.xlabel('Actual MPG', size = 12)\n",
    "plt.show()"
   ]
  },
  {
   "cell_type": "code",
   "execution_count": 28,
   "metadata": {},
   "outputs": [
    {
     "name": "stdout",
     "output_type": "stream",
     "text": [
      "Mean Absolute Error: 2.5689751860757064\n",
      "Mean Squared Error: 10.433093300449064\n",
      "Root Mean Squared Error: 3.2300299225315334\n"
     ]
    }
   ],
   "source": [
    "from sklearn import metrics\n",
    "print('Mean Absolute Error:', metrics.mean_absolute_error(response_test, response_pred))\n",
    "print('Mean Squared Error:', metrics.mean_squared_error(response_test, response_pred))\n",
    "print('Root Mean Squared Error:', np.sqrt(metrics.mean_squared_error(response_test, response_pred)))"
   ]
  },
  {
   "cell_type": "markdown",
   "metadata": {},
   "source": [
    "# Metric Comparison"
   ]
  },
  {
   "cell_type": "markdown",
   "metadata": {},
   "source": [
    "Original:\n",
    "\n",
    "Mean Absolute Error: 2.7165610346659896\n",
    "\n",
    "Mean Squared Error: 11.635241105371142\n",
    "\n",
    "Root Mean Squared Error: 3.411046922188427"
   ]
  },
  {
   "cell_type": "markdown",
   "metadata": {},
   "source": [
    "After dropping lowest importance (2):\n",
    "\n",
    "Mean Absolute Error: 2.569535993047778\n",
    "\n",
    "Mean Squared Error: 10.43525109417094\n",
    "\n",
    "Root Mean Squared Error: 3.2303639259642156\n"
   ]
  },
  {
   "cell_type": "markdown",
   "metadata": {},
   "source": [
    "All error metrics (MAE, MSE, and RMSE) decreased after removing acceleration and horsepower, the features of lowest importance. This may indicate that these two features have little predictive value on our outcome variable, mpg, and thus account for less variance in mpg. "
   ]
  }
 ],
 "metadata": {
  "kernelspec": {
   "display_name": "Python 3",
   "language": "python",
   "name": "python3"
  },
  "language_info": {
   "codemirror_mode": {
    "name": "ipython",
    "version": 3
   },
   "file_extension": ".py",
   "mimetype": "text/x-python",
   "name": "python",
   "nbconvert_exporter": "python",
   "pygments_lexer": "ipython3",
   "version": "3.7.6"
  }
 },
 "nbformat": 4,
 "nbformat_minor": 4
}
